{
 "cells": [
  {
   "cell_type": "code",
   "execution_count": 15,
   "id": "ac3830f7-e31d-4580-9c44-765ea82616e1",
   "metadata": {},
   "outputs": [
    {
     "name": "stdout",
     "output_type": "stream",
     "text": [
      "[1]\n"
     ]
    }
   ],
   "source": [
    "#question 1\n",
    "from sklearn.neighbors import KNeighborsClassifier\n",
    "from sklearn.model_selection import train_test_split\n",
    "\n",
    "#initializing  Dataset\n",
    "X = [\n",
    "    [1, 50, 1, 2], [1.5, 60, 0.5, 3], [0.8, 55, 1.2, 1.6], [2, 40, 1, 4], [1.2, 65, 0.8, 2.4],\n",
    "    [1.7, 45, 1.5, 3.4], [0.9, 70, 1, 1.8], [2.1, 35, 1.3, 4.2], [1.1, 60, 0.9, 2.2], [1.8, 48, 1, 3.6],\n",
    "    [0.95, 62, 1.1, 1.9], [2.2, 42, 0.7, 4.4], [1, 58, 1, 2], [1.9, 46, 1.2, 3.8], [1.3, 66, 0.6, 2.6]\n",
    "]\n",
    "y = [0, 1, 0, 1, 0, 1, 0, 1, 0, 1, 0, 1, 0, 1, 0]\n",
    "\n",
    "#using Model\n",
    "model = KNeighborsClassifier(n_neighbors=3)\n",
    "model.fit(X, y)\n",
    "\n",
    "#predicting sine or square wave\n",
    "print(model.predict([[1.4, 50, 1, 2.5]]))  # Example\n"
   ]
  },
  {
   "cell_type": "code",
   "execution_count": 16,
   "id": "93a6b4dc-de4b-47b1-acb2-c0f61b41bd53",
   "metadata": {},
   "outputs": [
    {
     "name": "stdout",
     "output_type": "stream",
     "text": [
      "[0]\n"
     ]
    }
   ],
   "source": [
    "#question 2\n",
    "#intializing dataset\n",
    "X = [[5, 0.5], [5.5, 0.4], [4.8, 0.6], [6, 0.3], [6.5, 0.2], [6.2, 0.25],\n",
    "     [4.9, 0.55], [5.8, 0.35], [5.2, 0.5], [6.3, 0.22]]\n",
    "y = [1, 1, 1, 0, 0, 0, 1, 0, 1, 0]  # Working = 1, Defective = 0\n",
    "\n",
    "model = KNeighborsClassifier(n_neighbors=3)\n",
    "model.fit(X, y)\n",
    "\n",
    "# Predict whether it is working or not\n",
    "print(model.predict([[5.6, 0.3]]))  # Example\n"
   ]
  },
  {
   "cell_type": "code",
   "execution_count": 9,
   "id": "d28bb79e-94bd-48ae-8dea-d2ff8e76dda4",
   "metadata": {},
   "outputs": [
    {
     "name": "stdout",
     "output_type": "stream",
     "text": [
      "[68.8]\n"
     ]
    }
   ],
   "source": [
    "#question 3\n",
    "from sklearn.linear_model import LinearRegression\n",
    "\n",
    "X = [[3], [4], [5], [6], [7], [8], [9], [10], [11], [12]]\n",
    "y = [50, 55, 60, 65, 68, 70, 78, 75, 82, 85]\n",
    "\n",
    "model = LinearRegression()\n",
    "model.fit(X, y)\n",
    "\n",
    "# Predict\n",
    "print(model.predict([[7.5]]))  # Example: 7.5 study hours\n"
   ]
  },
  {
   "cell_type": "code",
   "execution_count": 10,
   "id": "f752fe47-47c2-4c0f-b1ab-375f8ed6940d",
   "metadata": {},
   "outputs": [
    {
     "name": "stdout",
     "output_type": "stream",
     "text": [
      "[53.33333333]\n"
     ]
    }
   ],
   "source": [
    "#question 4\n",
    "X = [[2010], [2011], [2012], [2013], [2014], [2015], [2016], [2017], [2018], [2019]]\n",
    "y = [25, 28, 30, 34, 37, 40, 43, 45, 47, 50]\n",
    "\n",
    "model = LinearRegression()\n",
    "model.fit(X, y)\n",
    "\n",
    "# Predict\n",
    "print(model.predict([[2020]]))  # Predict price for year 2020\n"
   ]
  },
  {
   "cell_type": "code",
   "execution_count": 13,
   "id": "23b652cc-c460-4d21-baca-40ddcac0c869",
   "metadata": {},
   "outputs": [
    {
     "name": "stdout",
     "output_type": "stream",
     "text": [
      "['Bad']\n"
     ]
    }
   ],
   "source": [
    "#question 5\n",
    "from sklearn.tree import DecisionTreeClassifier\n",
    "from sklearn.preprocessing import LabelEncoder\n",
    "\n",
    "# initializing input Datas\n",
    "X = [\n",
    "    ['T1', 75, 2000], ['T2', 50, 1500], ['T1', 90, 2200], ['T3', 40, 1300],\n",
    "    ['T2', 85, 2100], ['T1', 70, 1800], ['T3', 30, 1200], ['T2', 60, 1600],\n",
    "    ['T1', 80, 1900], ['T3', 20, 1100]\n",
    "]\n",
    "y = ['Good', 'Bad', 'Good', 'Bad', 'Good', 'Good', 'Bad', 'Bad', 'Good', 'Bad']\n",
    "\n",
    "# Extract and encode the first (categorical) feature\n",
    "le = LabelEncoder()\n",
    "type_column = [row[0] for row in X]\n",
    "le.fit(type_column)\n",
    "\n",
    "# Replace string labels with encoded integers\n",
    "for row in X:\n",
    "    row[0] = le.transform([row[0]])[0]\n",
    "\n",
    "# Train the model\n",
    "model = DecisionTreeClassifier()\n",
    "model.fit(X, y)\n",
    "\n",
    "# Predict\n",
    "sample = [le.transform(['T2'])[0], 65, 1700]\n",
    "print(model.predict([sample]))  # Output: ['Good'] or ['Bad']\n"
   ]
  },
  {
   "cell_type": "code",
   "execution_count": 14,
   "id": "0655bd17-31f5-434d-8f12-620c4c906daa",
   "metadata": {},
   "outputs": [
    {
     "name": "stdout",
     "output_type": "stream",
     "text": [
      "[1 1 1 1 1 0 0 0 0 0]\n"
     ]
    },
    {
     "name": "stderr",
     "output_type": "stream",
     "text": [
      "C:\\ProgramData\\anaconda3\\Lib\\site-packages\\sklearn\\cluster\\_kmeans.py:1429: UserWarning: KMeans is known to have a memory leak on Windows with MKL, when there are less chunks than available threads. You can avoid it by setting the environment variable OMP_NUM_THREADS=1.\n",
      "  warnings.warn(\n"
     ]
    }
   ],
   "source": [
    "#question 6\n",
    "from sklearn.cluster import KMeans\n",
    "import numpy as np\n",
    "\n",
    "# Data\n",
    "X = np.array([\n",
    "    [4.819941, 0.87293], [5.249786, 0.918358], [4.771151, 0.958775],\n",
    "    [4.602712, 1.087788], [4.814919, 0.877739], [12.38281, 2.257141],\n",
    "    [12.36406, 2.383657], [11.22958, 1.89107], [12.17975, 1.82507], [12.06387, 2.295757]\n",
    "])\n",
    "\n",
    "model = KMeans(n_clusters=2, random_state=0)\n",
    "model.fit(X)\n",
    "\n",
    "# Cluster labels\n",
    "print(model.labels_)\n"
   ]
  },
  {
   "cell_type": "code",
   "execution_count": null,
   "id": "d8d9cfe6-ec82-4d50-8088-116b2c43c172",
   "metadata": {},
   "outputs": [],
   "source": []
  }
 ],
 "metadata": {
  "kernelspec": {
   "display_name": "Python 3 (ipykernel)",
   "language": "python",
   "name": "python3"
  },
  "language_info": {
   "codemirror_mode": {
    "name": "ipython",
    "version": 3
   },
   "file_extension": ".py",
   "mimetype": "text/x-python",
   "name": "python",
   "nbconvert_exporter": "python",
   "pygments_lexer": "ipython3",
   "version": "3.12.7"
  }
 },
 "nbformat": 4,
 "nbformat_minor": 5
}
